{
 "cells": [
  {
   "cell_type": "code",
   "execution_count": 12,
   "metadata": {},
   "outputs": [
    {
     "name": "stdout",
     "output_type": "stream",
     "text": [
      "mysql -u postfix -p$MYSQL_PASSWORD -D postfix -e 'SELECT address,goto,domain,active from alias;'\n",
      "address\tgoto\tdomain\tactive\n",
      "@exrp.pl\tcatchall@exrp.pl\texrp.pl\t1\n",
      "abuse@exrp.pl\tabuse@\texrp.pl\t1\n",
      "admin@exrp.pl\ta_suh@exrp.pl\texrp.pl\t1\n",
      "a_suh@exrp.pl\ta_suh@exrp.pl\texrp.pl\t1\n",
      "catchall@exrp.pl\tcatchall@exrp.pl\texrp.pl\t1\n",
      "g_user@exrp.pl\tg_user@exrp.pl\texrp.pl\t1\n",
      "hostmaster@exrp.pl\thostmaster@\texrp.pl\t1\n",
      "jumshud@exrp.pl\tnurlan@exrp.pl,g_user@exrp.pl\texrp.pl\t0\n",
      "normal@exrp.pl\tnormal@exrp.pl\texrp.pl\t1\n",
      "nurlan.farajov@exrp.pl\tnurlan.farajov@exrp.pl\texrp.pl\t1\n",
      "nurlan@exrp.pl\tnurlan.farajov@exrp.pl,nurlan@erpgo.az\texrp.pl\t1\n",
      "nurlantest@exrp.pl\tnurlantest@exrp.pl\texrp.pl\t1\n",
      "postfixadmin@exrp.pl\tadmin@exrp.pl\texrp.pl\t1\n",
      "postmaster@exrp.pl\tpostmaster@\texrp.pl\t1\n",
      "test222@exrp.pl\tnurlan@exrp.pl\texrp.pl\t1\n",
      "test@exrp.pl\tnurlan@exrp.pl\texrp.pl\t1\n",
      "webmaster@exrp.pl\twebmaster@\texrp.pl\t1\n",
      "\n"
     ]
    }
   ],
   "source": [
    "sql = 'SELECT address,goto,domain,active from alias;'\n",
    "print(common._run_sql_on_maildb(domain.api_url, domain.api_token, domain.namespace, domain.label, sql))"
   ]
  },
  {
   "cell_type": "code",
   "execution_count": 36,
   "metadata": {},
   "outputs": [],
   "source": [
    "from models import common"
   ]
  },
  {
   "cell_type": "code",
   "execution_count": 37,
   "metadata": {},
   "outputs": [],
   "source": [
    "domain = env['mail_reset.domain'].search([])"
   ]
  },
  {
   "cell_type": "code",
   "execution_count": 38,
   "metadata": {},
   "outputs": [],
   "source": [
    "def _get_record_data(output, fields):\n",
    "    outlist = output.splitlines()[1:]\n",
    "    record_data = []\n",
    "    for l in outlist:\n",
    "        l = l.split('\\t')\n",
    "        data = dict(zip(fields, l))\n",
    "        data['address'] = data['address'].split('@')[0]\n",
    "        data['active'] = int(data['active'])\n",
    "        record_data.append(data)\n",
    "    return record_data\n"
   ]
  },
  {
   "cell_type": "code",
   "execution_count": 39,
   "metadata": {},
   "outputs": [],
   "source": [
    "def _sync_aliases(domain):\n",
    "    sql = 'SELECT address,goto,domain,active from alias;'\n",
    "    output = common._run_sql_on_maildb(domain.api_url, domain.api_token, domain.namespace, domain.label, sql)\n",
    "    fields=['address','goto','domain','active']\n",
    "    \n",
    "    return _get_record_data(output, fields)"
   ]
  },
  {
   "cell_type": "code",
   "execution_count": 42,
   "metadata": {},
   "outputs": [
    {
     "name": "stdout",
     "output_type": "stream",
     "text": [
      "mysql -u postfix -p$MYSQL_PASSWORD -D postfix -e 'SELECT address,goto,domain,active from alias;'\n"
     ]
    }
   ],
   "source": [
    "records = _sync_aliases(domain)"
   ]
  },
  {
   "cell_type": "code",
   "execution_count": 43,
   "metadata": {},
   "outputs": [
    {
     "data": {
      "text/plain": [
       "[{'address': '', 'goto': 'catchall@exrp.pl', 'domain': 'exrp.pl', 'active': 1},\n",
       " {'address': 'abuse', 'goto': 'abuse@', 'domain': 'exrp.pl', 'active': 1},\n",
       " {'address': 'admin',\n",
       "  'goto': 'a_suh@exrp.pl',\n",
       "  'domain': 'exrp.pl',\n",
       "  'active': 1},\n",
       " {'address': 'a_suh',\n",
       "  'goto': 'a_suh@exrp.pl',\n",
       "  'domain': 'exrp.pl',\n",
       "  'active': 1},\n",
       " {'address': 'catchall',\n",
       "  'goto': 'catchall@exrp.pl',\n",
       "  'domain': 'exrp.pl',\n",
       "  'active': 1},\n",
       " {'address': 'g_user',\n",
       "  'goto': 'g_user@exrp.pl',\n",
       "  'domain': 'exrp.pl',\n",
       "  'active': 1},\n",
       " {'address': 'hostmaster',\n",
       "  'goto': 'hostmaster@',\n",
       "  'domain': 'exrp.pl',\n",
       "  'active': 1},\n",
       " {'address': 'jumshud',\n",
       "  'goto': 'nurlan@exrp.pl,g_user@exrp.pl',\n",
       "  'domain': 'exrp.pl',\n",
       "  'active': 0},\n",
       " {'address': 'normal',\n",
       "  'goto': 'normal@exrp.pl',\n",
       "  'domain': 'exrp.pl',\n",
       "  'active': 1},\n",
       " {'address': 'nurlan.farajov',\n",
       "  'goto': 'nurlan.farajov@exrp.pl',\n",
       "  'domain': 'exrp.pl',\n",
       "  'active': 1},\n",
       " {'address': 'nurlan',\n",
       "  'goto': 'nurlan.farajov@exrp.pl,nurlan@erpgo.az',\n",
       "  'domain': 'exrp.pl',\n",
       "  'active': 1},\n",
       " {'address': 'nurlantest',\n",
       "  'goto': 'nurlantest@exrp.pl',\n",
       "  'domain': 'exrp.pl',\n",
       "  'active': 1},\n",
       " {'address': 'postfixadmin',\n",
       "  'goto': 'admin@exrp.pl',\n",
       "  'domain': 'exrp.pl',\n",
       "  'active': 1},\n",
       " {'address': 'postmaster',\n",
       "  'goto': 'postmaster@',\n",
       "  'domain': 'exrp.pl',\n",
       "  'active': 1},\n",
       " {'address': 'test222',\n",
       "  'goto': 'nurlan@exrp.pl',\n",
       "  'domain': 'exrp.pl',\n",
       "  'active': 1},\n",
       " {'address': 'test',\n",
       "  'goto': 'nurlan@exrp.pl',\n",
       "  'domain': 'exrp.pl',\n",
       "  'active': 1},\n",
       " {'address': 'webmaster',\n",
       "  'goto': 'webmaster@',\n",
       "  'domain': 'exrp.pl',\n",
       "  'active': 1}]"
      ]
     },
     "execution_count": 43,
     "metadata": {},
     "output_type": "execute_result"
    }
   ],
   "source": [
    "records"
   ]
  },
  {
   "cell_type": "code",
   "execution_count": 34,
   "metadata": {},
   "outputs": [
    {
     "name": "stdout",
     "output_type": "stream",
     "text": [
      "mysql -u postfix -p$MYSQL_PASSWORD -D postfix -e 'SELECT address,goto,domain,active from alias;'\n"
     ]
    },
    {
     "ename": "ValidationError",
     "evalue": "('Address is invalid!', None)",
     "output_type": "error",
     "traceback": [
      "\u001b[0;31m---------------------------------------------------------------------------\u001b[0m",
      "\u001b[0;31mValidationError\u001b[0m                           Traceback (most recent call last)",
      "\u001b[0;32m<ipython-input-34-6072496ccba4>\u001b[0m in \u001b[0;36m<module>\u001b[0;34m\u001b[0m\n\u001b[1;32m      6\u001b[0m     \u001b[0mdata\u001b[0m\u001b[0;34m[\u001b[0m\u001b[0;34m'name'\u001b[0m\u001b[0;34m]\u001b[0m \u001b[0;34m=\u001b[0m \u001b[0;34mf\"{data['address']}@{data['domain']}\"\u001b[0m\u001b[0;34m\u001b[0m\u001b[0;34m\u001b[0m\u001b[0m\n\u001b[1;32m      7\u001b[0m     \u001b[0mdata\u001b[0m\u001b[0;34m[\u001b[0m\u001b[0;34m'domain'\u001b[0m\u001b[0;34m]\u001b[0m \u001b[0;34m=\u001b[0m \u001b[0menv\u001b[0m\u001b[0;34m[\u001b[0m\u001b[0;34m'mail_reset.domain'\u001b[0m\u001b[0;34m]\u001b[0m\u001b[0;34m.\u001b[0m\u001b[0msearch\u001b[0m\u001b[0;34m(\u001b[0m\u001b[0;34m[\u001b[0m\u001b[0;34m(\u001b[0m\u001b[0;34m'name'\u001b[0m\u001b[0;34m,\u001b[0m\u001b[0;34m'='\u001b[0m\u001b[0;34m,\u001b[0m \u001b[0mdata\u001b[0m\u001b[0;34m[\u001b[0m\u001b[0;34m'domain'\u001b[0m\u001b[0;34m]\u001b[0m\u001b[0;34m)\u001b[0m\u001b[0;34m]\u001b[0m\u001b[0;34m)\u001b[0m\u001b[0;34m.\u001b[0m\u001b[0mid\u001b[0m\u001b[0;34m\u001b[0m\u001b[0;34m\u001b[0m\u001b[0m\n\u001b[0;32m----> 8\u001b[0;31m     \u001b[0menv\u001b[0m\u001b[0;34m[\u001b[0m\u001b[0;34m'mail_reset.aliases'\u001b[0m\u001b[0;34m]\u001b[0m\u001b[0;34m.\u001b[0m\u001b[0mcreate\u001b[0m\u001b[0;34m(\u001b[0m\u001b[0mdata\u001b[0m\u001b[0;34m)\u001b[0m\u001b[0;34m\u001b[0m\u001b[0;34m\u001b[0m\u001b[0m\n\u001b[0m",
      "\u001b[0;32m~/src/user/mail_reset/models/mail_reset_alias.py\u001b[0m in \u001b[0;36mcreate\u001b[0;34m(self, vals)\u001b[0m\n\u001b[1;32m     37\u001b[0m     \u001b[0;34m@\u001b[0m\u001b[0mapi\u001b[0m\u001b[0;34m.\u001b[0m\u001b[0mmodel\u001b[0m\u001b[0;34m\u001b[0m\u001b[0;34m\u001b[0m\u001b[0m\n\u001b[1;32m     38\u001b[0m     \u001b[0;32mdef\u001b[0m \u001b[0mcreate\u001b[0m\u001b[0;34m(\u001b[0m\u001b[0mself\u001b[0m\u001b[0;34m,\u001b[0m \u001b[0mvals\u001b[0m\u001b[0;34m)\u001b[0m\u001b[0;34m:\u001b[0m\u001b[0;34m\u001b[0m\u001b[0;34m\u001b[0m\u001b[0m\n\u001b[0;32m---> 39\u001b[0;31m         \u001b[0mrecord\u001b[0m \u001b[0;34m=\u001b[0m \u001b[0msuper\u001b[0m\u001b[0;34m(\u001b[0m\u001b[0mMail_Reset_Aliases\u001b[0m\u001b[0;34m,\u001b[0m \u001b[0mself\u001b[0m\u001b[0;34m)\u001b[0m\u001b[0;34m.\u001b[0m\u001b[0mcreate\u001b[0m\u001b[0;34m(\u001b[0m\u001b[0mvals\u001b[0m\u001b[0;34m)\u001b[0m\u001b[0;34m\u001b[0m\u001b[0;34m\u001b[0m\u001b[0m\n\u001b[0m\u001b[1;32m     40\u001b[0m         \u001b[0mrecord\u001b[0m\u001b[0;34m.\u001b[0m\u001b[0m_create_user_alias\u001b[0m\u001b[0;34m(\u001b[0m\u001b[0;34m)\u001b[0m\u001b[0;34m\u001b[0m\u001b[0;34m\u001b[0m\u001b[0m\n\u001b[1;32m     41\u001b[0m         \u001b[0;32mreturn\u001b[0m \u001b[0mrecord\u001b[0m\u001b[0;34m\u001b[0m\u001b[0;34m\u001b[0m\u001b[0m\n",
      "\u001b[0;32m~/src/odoo/odoo/models.py\u001b[0m in \u001b[0;36mcreate\u001b[0;34m(self, vals)\u001b[0m\n\u001b[1;32m   3433\u001b[0m \u001b[0;34m\u001b[0m\u001b[0m\n\u001b[1;32m   3434\u001b[0m         \u001b[0;31m# create record with old-style fields\u001b[0m\u001b[0;34m\u001b[0m\u001b[0;34m\u001b[0m\u001b[0;34m\u001b[0m\u001b[0m\n\u001b[0;32m-> 3435\u001b[0;31m         \u001b[0mrecord\u001b[0m \u001b[0;34m=\u001b[0m \u001b[0mself\u001b[0m\u001b[0;34m.\u001b[0m\u001b[0mbrowse\u001b[0m\u001b[0;34m(\u001b[0m\u001b[0mself\u001b[0m\u001b[0;34m.\u001b[0m\u001b[0m_create\u001b[0m\u001b[0;34m(\u001b[0m\u001b[0mold_vals\u001b[0m\u001b[0;34m)\u001b[0m\u001b[0;34m)\u001b[0m\u001b[0;34m\u001b[0m\u001b[0;34m\u001b[0m\u001b[0m\n\u001b[0m\u001b[1;32m   3436\u001b[0m \u001b[0;34m\u001b[0m\u001b[0m\n\u001b[1;32m   3437\u001b[0m         \u001b[0mprotected_fields\u001b[0m \u001b[0;34m=\u001b[0m \u001b[0;34m[\u001b[0m\u001b[0mself\u001b[0m\u001b[0;34m.\u001b[0m\u001b[0m_fields\u001b[0m\u001b[0;34m[\u001b[0m\u001b[0mn\u001b[0m\u001b[0;34m]\u001b[0m \u001b[0;32mfor\u001b[0m \u001b[0mn\u001b[0m \u001b[0;32min\u001b[0m \u001b[0mnew_vals\u001b[0m\u001b[0;34m]\u001b[0m\u001b[0;34m\u001b[0m\u001b[0;34m\u001b[0m\u001b[0m\n",
      "\u001b[0;32m~/src/odoo/odoo/models.py\u001b[0m in \u001b[0;36m_create\u001b[0;34m(self, vals)\u001b[0m\n\u001b[1;32m   3586\u001b[0m \u001b[0;34m\u001b[0m\u001b[0m\n\u001b[1;32m   3587\u001b[0m             \u001b[0;31m# check Python constraints\u001b[0m\u001b[0;34m\u001b[0m\u001b[0;34m\u001b[0m\u001b[0;34m\u001b[0m\u001b[0m\n\u001b[0;32m-> 3588\u001b[0;31m             \u001b[0mself\u001b[0m\u001b[0;34m.\u001b[0m\u001b[0m_validate_fields\u001b[0m\u001b[0;34m(\u001b[0m\u001b[0mvals\u001b[0m\u001b[0;34m)\u001b[0m\u001b[0;34m\u001b[0m\u001b[0;34m\u001b[0m\u001b[0m\n\u001b[0m\u001b[1;32m   3589\u001b[0m \u001b[0;34m\u001b[0m\u001b[0m\n\u001b[1;32m   3590\u001b[0m             \u001b[0;32mif\u001b[0m \u001b[0mself\u001b[0m\u001b[0;34m.\u001b[0m\u001b[0menv\u001b[0m\u001b[0;34m.\u001b[0m\u001b[0mrecompute\u001b[0m \u001b[0;32mand\u001b[0m \u001b[0mself\u001b[0m\u001b[0;34m.\u001b[0m\u001b[0m_context\u001b[0m\u001b[0;34m.\u001b[0m\u001b[0mget\u001b[0m\u001b[0;34m(\u001b[0m\u001b[0;34m'recompute'\u001b[0m\u001b[0;34m,\u001b[0m \u001b[0;32mTrue\u001b[0m\u001b[0;34m)\u001b[0m\u001b[0;34m:\u001b[0m\u001b[0;34m\u001b[0m\u001b[0;34m\u001b[0m\u001b[0m\n",
      "\u001b[0;32m~/src/odoo/odoo/models.py\u001b[0m in \u001b[0;36m_validate_fields\u001b[0;34m(self, field_names)\u001b[0m\n\u001b[1;32m   1053\u001b[0m             \u001b[0;32mif\u001b[0m \u001b[0mset\u001b[0m\u001b[0;34m(\u001b[0m\u001b[0mcheck\u001b[0m\u001b[0;34m.\u001b[0m\u001b[0m_constrains\u001b[0m\u001b[0;34m)\u001b[0m \u001b[0;34m&\u001b[0m \u001b[0mfield_names\u001b[0m\u001b[0;34m:\u001b[0m\u001b[0;34m\u001b[0m\u001b[0;34m\u001b[0m\u001b[0m\n\u001b[1;32m   1054\u001b[0m                 \u001b[0;32mtry\u001b[0m\u001b[0;34m:\u001b[0m\u001b[0;34m\u001b[0m\u001b[0;34m\u001b[0m\u001b[0m\n\u001b[0;32m-> 1055\u001b[0;31m                     \u001b[0mcheck\u001b[0m\u001b[0;34m(\u001b[0m\u001b[0mself\u001b[0m\u001b[0;34m)\u001b[0m\u001b[0;34m\u001b[0m\u001b[0;34m\u001b[0m\u001b[0m\n\u001b[0m\u001b[1;32m   1056\u001b[0m                 \u001b[0;32mexcept\u001b[0m \u001b[0mValidationError\u001b[0m \u001b[0;32mas\u001b[0m \u001b[0me\u001b[0m\u001b[0;34m:\u001b[0m\u001b[0;34m\u001b[0m\u001b[0;34m\u001b[0m\u001b[0m\n\u001b[1;32m   1057\u001b[0m                     \u001b[0;32mraise\u001b[0m\u001b[0;34m\u001b[0m\u001b[0;34m\u001b[0m\u001b[0m\n",
      "\u001b[0;32m~/src/user/mail_reset/models/mail_reset_alias.py\u001b[0m in \u001b[0;36m_check_address\u001b[0;34m(self)\u001b[0m\n\u001b[1;32m     33\u001b[0m     \u001b[0;32mdef\u001b[0m \u001b[0m_check_address\u001b[0m\u001b[0;34m(\u001b[0m\u001b[0mself\u001b[0m\u001b[0;34m)\u001b[0m\u001b[0;34m:\u001b[0m\u001b[0;34m\u001b[0m\u001b[0;34m\u001b[0m\u001b[0m\n\u001b[1;32m     34\u001b[0m         \u001b[0;32mif\u001b[0m \u001b[0mcommon\u001b[0m\u001b[0;34m.\u001b[0m\u001b[0m_is_username\u001b[0m\u001b[0;34m(\u001b[0m\u001b[0mself\u001b[0m\u001b[0;34m.\u001b[0m\u001b[0mname\u001b[0m\u001b[0;34m)\u001b[0m\u001b[0;34m:\u001b[0m\u001b[0;34m\u001b[0m\u001b[0;34m\u001b[0m\u001b[0m\n\u001b[0;32m---> 35\u001b[0;31m             \u001b[0;32mraise\u001b[0m \u001b[0mValidationError\u001b[0m\u001b[0;34m(\u001b[0m\u001b[0;34m'Address is invalid!'\u001b[0m\u001b[0;34m)\u001b[0m\u001b[0;34m\u001b[0m\u001b[0;34m\u001b[0m\u001b[0m\n\u001b[0m\u001b[1;32m     36\u001b[0m \u001b[0;34m\u001b[0m\u001b[0m\n\u001b[1;32m     37\u001b[0m     \u001b[0;34m@\u001b[0m\u001b[0mapi\u001b[0m\u001b[0;34m.\u001b[0m\u001b[0mmodel\u001b[0m\u001b[0;34m\u001b[0m\u001b[0;34m\u001b[0m\u001b[0m\n",
      "\u001b[0;31mValidationError\u001b[0m: ('Address is invalid!', None)"
     ]
    }
   ],
   "source": [
    "records = _sync_aliases(domain)\n",
    "all_aliases = env['mail_reset.aliases'].with_context(active_test=False)\n",
    "for alias in all_aliases:\n",
    "    alias.unlink()\n",
    "for data in records:\n",
    "    data['name'] = f\"{data['address']}@{data['domain']}\"\n",
    "    data['domain'] = env['mail_reset.domain'].search([('name','=', data['domain'])]).id\n",
    "    env['mail_reset.aliases'].create(data)\n"
   ]
  },
  {
   "cell_type": "code",
   "execution_count": 70,
   "metadata": {},
   "outputs": [],
   "source": [
    "data['active'] = int(data['active'])"
   ]
  },
  {
   "cell_type": "code",
   "execution_count": 35,
   "metadata": {},
   "outputs": [
    {
     "data": {
      "text/plain": [
       "[{'address': '',\n",
       "  'goto': 'catchall@exrp.pl',\n",
       "  'domain': 1,\n",
       "  'active': 1,\n",
       "  'name': '@exrp.pl'},\n",
       " {'address': 'abuse', 'goto': 'abuse@', 'domain': 'exrp.pl', 'active': 1},\n",
       " {'address': 'admin',\n",
       "  'goto': 'a_suh@exrp.pl',\n",
       "  'domain': 'exrp.pl',\n",
       "  'active': 1},\n",
       " {'address': 'a_suh',\n",
       "  'goto': 'a_suh@exrp.pl',\n",
       "  'domain': 'exrp.pl',\n",
       "  'active': 1},\n",
       " {'address': 'catchall',\n",
       "  'goto': 'catchall@exrp.pl',\n",
       "  'domain': 'exrp.pl',\n",
       "  'active': 1},\n",
       " {'address': 'g_user',\n",
       "  'goto': 'g_user@exrp.pl',\n",
       "  'domain': 'exrp.pl',\n",
       "  'active': 1},\n",
       " {'address': 'hostmaster',\n",
       "  'goto': 'hostmaster@',\n",
       "  'domain': 'exrp.pl',\n",
       "  'active': 1},\n",
       " {'address': 'jumshud',\n",
       "  'goto': 'nurlan@exrp.pl,g_user@exrp.pl',\n",
       "  'domain': 'exrp.pl',\n",
       "  'active': 0},\n",
       " {'address': 'normal',\n",
       "  'goto': 'normal@exrp.pl',\n",
       "  'domain': 'exrp.pl',\n",
       "  'active': 1},\n",
       " {'address': 'nurlan.farajov',\n",
       "  'goto': 'nurlan.farajov@exrp.pl',\n",
       "  'domain': 'exrp.pl',\n",
       "  'active': 1},\n",
       " {'address': 'nurlan',\n",
       "  'goto': 'nurlan.farajov@exrp.pl,nurlan@erpgo.az',\n",
       "  'domain': 'exrp.pl',\n",
       "  'active': 1},\n",
       " {'address': 'nurlantest',\n",
       "  'goto': 'nurlantest@exrp.pl',\n",
       "  'domain': 'exrp.pl',\n",
       "  'active': 1},\n",
       " {'address': 'postfixadmin',\n",
       "  'goto': 'admin@exrp.pl',\n",
       "  'domain': 'exrp.pl',\n",
       "  'active': 1},\n",
       " {'address': 'postmaster',\n",
       "  'goto': 'postmaster@',\n",
       "  'domain': 'exrp.pl',\n",
       "  'active': 1},\n",
       " {'address': 'test222',\n",
       "  'goto': 'nurlan@exrp.pl',\n",
       "  'domain': 'exrp.pl',\n",
       "  'active': 1},\n",
       " {'address': 'test',\n",
       "  'goto': 'nurlan@exrp.pl',\n",
       "  'domain': 'exrp.pl',\n",
       "  'active': 1},\n",
       " {'address': 'webmaster',\n",
       "  'goto': 'webmaster@',\n",
       "  'domain': 'exrp.pl',\n",
       "  'active': 1}]"
      ]
     },
     "execution_count": 35,
     "metadata": {},
     "output_type": "execute_result"
    }
   ],
   "source": [
    "records"
   ]
  },
  {
   "cell_type": "code",
   "execution_count": 15,
   "metadata": {},
   "outputs": [
    {
     "data": {
      "text/plain": [
       "'nurlan'"
      ]
     },
     "execution_count": 15,
     "metadata": {},
     "output_type": "execute_result"
    }
   ],
   "source": [
    "address = 'nurlan@exrp.pl'\n",
    "address.split('@')[0]"
   ]
  },
  {
   "cell_type": "code",
   "execution_count": null,
   "metadata": {},
   "outputs": [],
   "source": []
  }
 ],
 "metadata": {
  "kernelspec": {
   "display_name": "Odoo-shell",
   "language": "",
   "name": "odoo"
  },
  "language_info": {
   "codemirror_mode": {
    "name": "ipython",
    "version": 3
   },
   "file_extension": ".py",
   "mimetype": "text/x-python",
   "name": "python",
   "nbconvert_exporter": "python",
   "pygments_lexer": "ipython3",
   "version": "3.6.9"
  }
 },
 "nbformat": 4,
 "nbformat_minor": 4
}
