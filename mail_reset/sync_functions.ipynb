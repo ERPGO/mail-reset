{
 "cells": [
  {
   "cell_type": "code",
   "execution_count": 1,
   "metadata": {},
   "outputs": [
    {
     "name": "stdout",
     "output_type": "stream",
     "text": [
      "mysql -u postfix -p$MYSQL_PASSWORD -D postfix -e 'SELECT address,goto,domain,active from alias;'\n"
     ]
    }
   ],
   "source": [
    "from models import common\n",
    "\n",
    "domain = env['mail_reset.domain'].search([])\n",
    "sql = 'SELECT address,goto,domain,active from alias;'\n",
    "output = common._run_sql_on_maildb(domain.api_url, domain.api_token, domain.namespace, domain.label, sql)\n",
    "fields = ['name','goto','domain','active']"
   ]
  },
  {
   "cell_type": "code",
   "execution_count": 4,
   "metadata": {},
   "outputs": [],
   "source": [
    "from models import common\n",
    "\n",
    "def _get_record_data(output, fields):\n",
    "    outlist = output.splitlines()[1:]\n",
    "    record_data = []\n",
    "    for l in outlist:\n",
    "        l = l.split('\\t')\n",
    "        data = dict(zip(fields, l))\n",
    "        data['name'] = data['name'].split('@')[0]\n",
    "        data['active'] = int(data['active'])\n",
    "        record_data.append(data)\n",
    "    return record_data\n"
   ]
  },
  {
   "cell_type": "code",
   "execution_count": 5,
   "metadata": {},
   "outputs": [],
   "source": [
    "def _sync_aliases(domain):\n",
    "    sql = 'SELECT address,goto,domain,active from alias;'\n",
    "    output = common._run_sql_on_maildb(domain.api_url, domain.api_token, domain.namespace, domain.label, sql)\n",
    "    fields = ['address','goto','domain','active']\n",
    "    \n",
    "    return _get_record_data(output, fields)"
   ]
  },
  {
   "cell_type": "code",
   "execution_count": 7,
   "metadata": {
    "collapsed": true,
    "jupyter": {
     "outputs_hidden": true
    }
   },
   "outputs": [
    {
     "name": "stdout",
     "output_type": "stream",
     "text": [
      "mysql -u postfix -p$MYSQL_PASSWORD -D postfix -e 'SELECT address,goto,domain,active from alias;'\n",
      "mysql -u postfix -p$MYSQL_PASSWORD -D postfix -e 'INSERT alias (address,goto,domain) VALUES(\"@exrp.pl\",\"catchall@exrp.pl\",\"exrp.pl\");'\n",
      "77: *@exrp.pl created\n",
      "mysql -u postfix -p$MYSQL_PASSWORD -D postfix -e 'INSERT alias (address,goto,domain) VALUES(\"abuse@exrp.pl\",\"abuse@\",\"exrp.pl\");'\n",
      "78: abuse@exrp.pl created\n",
      "mysql -u postfix -p$MYSQL_PASSWORD -D postfix -e 'INSERT alias (address,goto,domain) VALUES(\"admin@exrp.pl\",\"a_suh@exrp.pl\",\"exrp.pl\");'\n",
      "79: admin@exrp.pl created\n",
      "mysql -u postfix -p$MYSQL_PASSWORD -D postfix -e 'INSERT alias (address,goto,domain) VALUES(\"a_suh@exrp.pl\",\"a_suh@exrp.pl\",\"exrp.pl\");'\n",
      "80: a_suh@exrp.pl created\n",
      "mysql -u postfix -p$MYSQL_PASSWORD -D postfix -e 'INSERT alias (address,goto,domain) VALUES(\"catchall@exrp.pl\",\"catchall@exrp.pl\",\"exrp.pl\");'\n",
      "81: catchall@exrp.pl created\n",
      "mysql -u postfix -p$MYSQL_PASSWORD -D postfix -e 'INSERT alias (address,goto,domain) VALUES(\"g_user@exrp.pl\",\"g_user@exrp.pl\",\"exrp.pl\");'\n",
      "82: g_user@exrp.pl created\n",
      "mysql -u postfix -p$MYSQL_PASSWORD -D postfix -e 'INSERT alias (address,goto,domain) VALUES(\"hostmaster@exrp.pl\",\"hostmaster@\",\"exrp.pl\");'\n",
      "83: hostmaster@exrp.pl created\n",
      "mysql -u postfix -p$MYSQL_PASSWORD -D postfix -e 'INSERT alias (address,goto,domain) VALUES(\"jumshud@exrp.pl\",\"nurlan@exrp.pl,g_user@exrp.pl\",\"exrp.pl\");'\n",
      "84: jumshud@exrp.pl created\n",
      "mysql -u postfix -p$MYSQL_PASSWORD -D postfix -e 'INSERT alias (address,goto,domain) VALUES(\"normal@exrp.pl\",\"normal@exrp.pl\",\"exrp.pl\");'\n",
      "85: normal@exrp.pl created\n",
      "mysql -u postfix -p$MYSQL_PASSWORD -D postfix -e 'INSERT alias (address,goto,domain) VALUES(\"nurlan.farajov@exrp.pl\",\"nurlan.farajov@exrp.pl\",\"exrp.pl\");'\n",
      "86: nurlan.farajov@exrp.pl created\n",
      "mysql -u postfix -p$MYSQL_PASSWORD -D postfix -e 'INSERT alias (address,goto,domain) VALUES(\"nurlan@exrp.pl\",\"nurlan.farajov@exrp.pl,nurlan@erpgo.az\",\"exrp.pl\");'\n",
      "87: nurlan@exrp.pl created\n",
      "mysql -u postfix -p$MYSQL_PASSWORD -D postfix -e 'INSERT alias (address,goto,domain) VALUES(\"nurlantest@exrp.pl\",\"nurlantest@exrp.pl\",\"exrp.pl\");'\n",
      "88: nurlantest@exrp.pl created\n",
      "mysql -u postfix -p$MYSQL_PASSWORD -D postfix -e 'INSERT alias (address,goto,domain) VALUES(\"postfixadmin@exrp.pl\",\"admin@exrp.pl\",\"exrp.pl\");'\n",
      "89: postfixadmin@exrp.pl created\n",
      "mysql -u postfix -p$MYSQL_PASSWORD -D postfix -e 'INSERT alias (address,goto,domain) VALUES(\"postmaster@exrp.pl\",\"postmaster@\",\"exrp.pl\");'\n",
      "90: postmaster@exrp.pl created\n",
      "mysql -u postfix -p$MYSQL_PASSWORD -D postfix -e 'INSERT alias (address,goto,domain) VALUES(\"test222@exrp.pl\",\"nurlan@exrp.pl\",\"exrp.pl\");'\n",
      "91: test222@exrp.pl created\n",
      "mysql -u postfix -p$MYSQL_PASSWORD -D postfix -e 'INSERT alias (address,goto,domain) VALUES(\"test@exrp.pl\",\"nurlan@exrp.pl\",\"exrp.pl\");'\n",
      "92: test@exrp.pl created\n",
      "mysql -u postfix -p$MYSQL_PASSWORD -D postfix -e 'INSERT alias (address,goto,domain) VALUES(\"webmaster@exrp.pl\",\"webmaster@\",\"exrp.pl\");'\n",
      "93: webmaster@exrp.pl created\n"
     ]
    }
   ],
   "source": [
    "domain = env['mail_reset.domain'].search([])\n",
    "records = _sync_aliases(domain)\n",
    "all_aliases = env['mail_reset.aliases'].with_context(active_test=False).search([])\n",
    "for alias in all_aliases:\n",
    "    alias.unlink()\n",
    "for data in records:\n",
    "    if data['name'] == '':\n",
    "        data['name'] = '*'\n",
    "    data['domain'] = env['mail_reset.domain'].search([('name','=', data['domain'])]).id\n",
    "    alias = env['mail_reset.aliases'].create(data)\n",
    "    if alias:\n",
    "        print(f\"{alias.id}: {alias.name}@{alias.domain.name} created\")\n"
   ]
  },
  {
   "cell_type": "code",
   "execution_count": 70,
   "metadata": {},
   "outputs": [],
   "source": [
    "data['active'] = int(data['active'])"
   ]
  },
  {
   "cell_type": "code",
   "execution_count": 35,
   "metadata": {
    "collapsed": true,
    "jupyter": {
     "outputs_hidden": true
    }
   },
   "outputs": [
    {
     "data": {
      "text/plain": [
       "[{'address': '',\n",
       "  'goto': 'catchall@exrp.pl',\n",
       "  'domain': 1,\n",
       "  'active': 1,\n",
       "  'name': '@exrp.pl'},\n",
       " {'address': 'abuse', 'goto': 'abuse@', 'domain': 'exrp.pl', 'active': 1},\n",
       " {'address': 'admin',\n",
       "  'goto': 'a_suh@exrp.pl',\n",
       "  'domain': 'exrp.pl',\n",
       "  'active': 1},\n",
       " {'address': 'a_suh',\n",
       "  'goto': 'a_suh@exrp.pl',\n",
       "  'domain': 'exrp.pl',\n",
       "  'active': 1},\n",
       " {'address': 'catchall',\n",
       "  'goto': 'catchall@exrp.pl',\n",
       "  'domain': 'exrp.pl',\n",
       "  'active': 1},\n",
       " {'address': 'g_user',\n",
       "  'goto': 'g_user@exrp.pl',\n",
       "  'domain': 'exrp.pl',\n",
       "  'active': 1},\n",
       " {'address': 'hostmaster',\n",
       "  'goto': 'hostmaster@',\n",
       "  'domain': 'exrp.pl',\n",
       "  'active': 1},\n",
       " {'address': 'jumshud',\n",
       "  'goto': 'nurlan@exrp.pl,g_user@exrp.pl',\n",
       "  'domain': 'exrp.pl',\n",
       "  'active': 0},\n",
       " {'address': 'normal',\n",
       "  'goto': 'normal@exrp.pl',\n",
       "  'domain': 'exrp.pl',\n",
       "  'active': 1},\n",
       " {'address': 'nurlan.farajov',\n",
       "  'goto': 'nurlan.farajov@exrp.pl',\n",
       "  'domain': 'exrp.pl',\n",
       "  'active': 1},\n",
       " {'address': 'nurlan',\n",
       "  'goto': 'nurlan.farajov@exrp.pl,nurlan@erpgo.az',\n",
       "  'domain': 'exrp.pl',\n",
       "  'active': 1},\n",
       " {'address': 'nurlantest',\n",
       "  'goto': 'nurlantest@exrp.pl',\n",
       "  'domain': 'exrp.pl',\n",
       "  'active': 1},\n",
       " {'address': 'postfixadmin',\n",
       "  'goto': 'admin@exrp.pl',\n",
       "  'domain': 'exrp.pl',\n",
       "  'active': 1},\n",
       " {'address': 'postmaster',\n",
       "  'goto': 'postmaster@',\n",
       "  'domain': 'exrp.pl',\n",
       "  'active': 1},\n",
       " {'address': 'test222',\n",
       "  'goto': 'nurlan@exrp.pl',\n",
       "  'domain': 'exrp.pl',\n",
       "  'active': 1},\n",
       " {'address': 'test',\n",
       "  'goto': 'nurlan@exrp.pl',\n",
       "  'domain': 'exrp.pl',\n",
       "  'active': 1},\n",
       " {'address': 'webmaster',\n",
       "  'goto': 'webmaster@',\n",
       "  'domain': 'exrp.pl',\n",
       "  'active': 1}]"
      ]
     },
     "execution_count": 35,
     "metadata": {},
     "output_type": "execute_result"
    }
   ],
   "source": [
    "records"
   ]
  },
  {
   "cell_type": "code",
   "execution_count": 15,
   "metadata": {},
   "outputs": [],
   "source": [
    "all_aliases = env['mail_reset.aliases'].with_context(active_test=False).search([])\n",
    "for alias in all_aliases:\n",
    "    alias.unlink()"
   ]
  },
  {
   "cell_type": "code",
   "execution_count": 13,
   "metadata": {},
   "outputs": [],
   "source": [
    "all_aliases = env['mail_reset.aliases'].with_context(active_test=False)"
   ]
  },
  {
   "cell_type": "code",
   "execution_count": 14,
   "metadata": {},
   "outputs": [
    {
     "data": {
      "text/plain": [
       "mail_reset.aliases()"
      ]
     },
     "execution_count": 14,
     "metadata": {},
     "output_type": "execute_result"
    }
   ],
   "source": [
    "all_aliases"
   ]
  },
  {
   "cell_type": "code",
   "execution_count": null,
   "metadata": {},
   "outputs": [],
   "source": []
  }
 ],
 "metadata": {
  "kernelspec": {
   "display_name": "Odoo-shell",
   "language": "",
   "name": "odoo"
  },
  "language_info": {
   "codemirror_mode": {
    "name": "ipython",
    "version": 3
   },
   "file_extension": ".py",
   "mimetype": "text/x-python",
   "name": "python",
   "nbconvert_exporter": "python",
   "pygments_lexer": "ipython3",
   "version": "3.6.9"
  }
 },
 "nbformat": 4,
 "nbformat_minor": 4
}
