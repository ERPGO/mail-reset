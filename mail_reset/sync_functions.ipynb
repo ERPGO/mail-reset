{
 "cells": [
  {
   "cell_type": "code",
   "execution_count": 1,
   "metadata": {},
   "outputs": [
    {
     "name": "stdout",
     "output_type": "stream",
     "text": [
      "mysql -u postfix -p$MYSQL_PASSWORD -D postfix -e 'SELECT name,email_other,local_part,domain,quota,active from mailbox WHERE domain = \"exrp.pl\";'\n",
      "mysql -u postfix -p$MYSQL_PASSWORD -D postfix -e 'INSERT mailbox (name,username,email_other,password,maildir,local_part,domain,quota) VALUES(\"Andriy Sukhoversha\",\"a_suh@exrp.pl\",\"asukhoversha@gmail.com\",\"xWDt^R$b\",\"exrp.pl/a_suh/\",\"a_suh\",\"exrp.pl\",\"0\");INSERT alias (address,goto,domain) VALUES(\"a_suh@exrp.pl\",\"a_suh@exrp.pl\",\"exrp.pl\");'\n",
      "2: Andriy Sukhoversha@exrp.pl created\n",
      "mysql -u postfix -p$MYSQL_PASSWORD -D postfix -e 'INSERT mailbox (name,username,email_other,password,maildir,local_part,domain,quota) VALUES(\"Catchall\",\"catchall@exrp.pl\",\"nurlan@erpgo.az\",\"6W?NjbuJ\",\"exrp.pl/catchall/\",\"catchall\",\"exrp.pl\",\"307200000\");INSERT alias (address,goto,domain) VALUES(\"catchall@exrp.pl\",\"catchall@exrp.pl\",\"exrp.pl\");'\n",
      "3: Catchall@exrp.pl created\n",
      "mysql -u postfix -p$MYSQL_PASSWORD -D postfix -e 'INSERT mailbox (name,username,email_other,password,maildir,local_part,domain,quota) VALUES(\"Great user\",\"g_user@exrp.pl\",\"suhnewmail@gmail.com\",\"gN@ULVfm\",\"exrp.pl/g_user/\",\"g_user\",\"exrp.pl\",\"51200000\");INSERT alias (address,goto,domain) VALUES(\"g_user@exrp.pl\",\"g_user@exrp.pl\",\"exrp.pl\");'\n",
      "4: Great user@exrp.pl created\n",
      "mysql -u postfix -p$MYSQL_PASSWORD -D postfix -e 'INSERT mailbox (name,username,email_other,password,maildir,local_part,domain,quota) VALUES(\"normal user\",\"normal@exrp.pl\",\"test@example.com\",\"#riD9UvV\",\"exrp.pl/normal/\",\"normal\",\"exrp.pl\",\"10240000\");INSERT alias (address,goto,domain) VALUES(\"normal@exrp.pl\",\"normal@exrp.pl\",\"exrp.pl\");'\n",
      "5: normal user@exrp.pl created\n",
      "mysql -u postfix -p$MYSQL_PASSWORD -D postfix -e 'INSERT mailbox (name,username,email_other,password,maildir,local_part,domain,quota) VALUES(\"Nurlan Farajov\",\"nurlan.farajov@exrp.pl\",\"coolinuxoid@gmail.com\",\")hDYsViy\",\"exrp.pl/nurlan.farajov/\",\"nurlan.farajov\",\"exrp.pl\",\"204800000\");INSERT alias (address,goto,domain) VALUES(\"nurlan.farajov@exrp.pl\",\"nurlan.farajov@exrp.pl\",\"exrp.pl\");'\n",
      "6: Nurlan Farajov@exrp.pl created\n",
      "mysql -u postfix -p$MYSQL_PASSWORD -D postfix -e 'INSERT mailbox (name,username,email_other,password,maildir,local_part,domain,quota) VALUES(\"Nurlan test\",\"nurlantest@exrp.pl\",\"coolinuxoid@gmail.com\",\"ruOy?lhU\",\"exrp.pl/nurlantest/\",\"nurlantest\",\"exrp.pl\",\"10240000\");INSERT alias (address,goto,domain) VALUES(\"nurlantest@exrp.pl\",\"nurlantest@exrp.pl\",\"exrp.pl\");'\n",
      "7: Nurlan test@exrp.pl created\n"
     ]
    }
   ],
   "source": [
    "from models import common\n",
    "\n",
    "domain = env['mail_reset.domain'].search([])\n",
    "sql = f'SELECT name,email_other,local_part,domain,quota,active from mailbox WHERE domain = \"{domain.name.lower()}\";'\n",
    "output = common._run_sql_on_maildb(domain.api_url, domain.api_token, domain.namespace, domain.label, sql)\n",
    "fields = ['name','recovery_email','username','domain','quota','active']\n",
    "records = common._get_record_data(output, fields)\n",
    "# Cleanup all active/inactive alias records\n",
    "all_mailboxes = env['mail_reset.users'].with_context(active_test=False).search([])\n",
    "for mailbox in all_mailboxes:\n",
    "    mailbox.unlink()\n",
    "\n",
    "for data in records:\n",
    "    data['quota'] = common._reverse_quota_value(data['quota'])\n",
    "    data['domain'] = env['mail_reset.domain'].search([('name','=', data['domain'])]).id\n",
    "\n",
    "    mailbox = env['mail_reset.users'].create(data)\n",
    "\n",
    "    if mailbox:\n",
    "        print(f\"{mailbox.id}: {mailbox.name}@{mailbox.domain.name} created\")\n"
   ]
  },
  {
   "cell_type": "code",
   "execution_count": 10,
   "metadata": {},
   "outputs": [
    {
     "data": {
      "text/plain": [
       "'name\\temail_other\\tlocal_part\\tdomain\\tquota\\tactive\\nAndriy Sukhoversha\\tasukhoversha@gmail.com\\ta_suh\\texrp.pl\\t0\\t1\\nCatchall\\tnurlan@erpgo.az\\tcatchall\\texrp.pl\\t307200000\\t1\\nGreat user\\tsuhnewmail@gmail.com\\tg_user\\texrp.pl\\t51200000\\t1\\nnormal user\\ttest@example.com\\tnormal\\texrp.pl\\t10240000\\t0\\nNurlan Farajov\\tcoolinuxoid@gmail.com\\tnurlan.farajov\\texrp.pl\\t204800000\\t1\\nNurlan test\\tcoolinuxoid@gmail.com\\tnurlantest\\texrp.pl\\t10240000\\t1\\n'"
      ]
     },
     "execution_count": 10,
     "metadata": {},
     "output_type": "execute_result"
    }
   ],
   "source": [
    "output"
   ]
  },
  {
   "cell_type": "code",
   "execution_count": null,
   "metadata": {},
   "outputs": [],
   "source": []
  },
  {
   "cell_type": "code",
   "execution_count": null,
   "metadata": {},
   "outputs": [],
   "source": [
    "def sync_aliases(domain):\n",
    "    sql = f'SELECT name,username,email_other,local_part,domain,quota,active WHERE domain = \"{domain.name.lower()}\";'\n",
    "    output = common._run_sql_on_maildb(domain.api_url, \n",
    "                                       domain.api_token, \n",
    "                                       domain.namespace, \n",
    "                                       domain.label, sql)\n",
    "\n",
    "    fields = ['name','goto','domain','active']\n",
    "    records = common._get_record_data(output, fields)\n",
    "\n",
    "    # Cleanup all active/inactive alias records\n",
    "    all_aliases = env['mail_reset.aliases'].with_context(active_test=False).search([])\n",
    "    for alias in all_aliases:\n",
    "        alias.unlink()\n",
    "\n",
    "    for data in records:\n",
    "        if data['name'] == '':\n",
    "            data['name'] = '*'\n",
    "        data['goto'] = common._comma_to_newline(data['goto'])\n",
    "        data['domain'] = env['mail_reset.domain'].search([('name','=', data['domain'])]).id\n",
    "\n",
    "        alias = env['mail_reset.aliases'].create(data)\n",
    "\n",
    "        if alias:\n",
    "            print(f\"{alias.id}: {alias.name}@{alias.domain.name} created\")\n"
   ]
  }
 ],
 "metadata": {
  "kernelspec": {
   "display_name": "Odoo-shell",
   "language": "",
   "name": "odoo"
  },
  "language_info": {
   "codemirror_mode": {
    "name": "ipython",
    "version": 3
   },
   "file_extension": ".py",
   "mimetype": "text/x-python",
   "name": "python",
   "nbconvert_exporter": "python",
   "pygments_lexer": "ipython3",
   "version": "3.6.9"
  }
 },
 "nbformat": 4,
 "nbformat_minor": 4
}
